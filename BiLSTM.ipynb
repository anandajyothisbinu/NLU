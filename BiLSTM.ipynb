{
 "cells": [
  {
   "cell_type": "code",
   "execution_count": 1,
   "metadata": {},
   "outputs": [
    {
     "name": "stdout",
     "output_type": "stream",
     "text": [
      "Libraries loaded ...\n"
     ]
    }
   ],
   "source": [
    "import pandas as pd\n",
    "import numpy as np\n",
    "import keras_tuner as kt\n",
    "from tensorflow.keras.models import Model\n",
    "from tensorflow.keras.layers import Input, Embedding, LSTM, Bidirectional, Dense, Dropout, Concatenate\n",
    "from tensorflow.keras.optimizers import Adam\n",
    "from tensorflow.keras.preprocessing.text import Tokenizer\n",
    "from tensorflow.keras.preprocessing.sequence import pad_sequences\n",
    "from tensorflow.keras.initializers import Constant\n",
    "from sklearn.model_selection import train_test_split\n",
    "import gensim.downloader as api\n",
    "\n",
    "print('Libraries loaded ...')"
   ]
  },
  {
   "cell_type": "code",
   "execution_count": 2,
   "metadata": {},
   "outputs": [
    {
     "data": {
      "text/html": [
       "<div>\n",
       "<style scoped>\n",
       "    .dataframe tbody tr th:only-of-type {\n",
       "        vertical-align: middle;\n",
       "    }\n",
       "\n",
       "    .dataframe tbody tr th {\n",
       "        vertical-align: top;\n",
       "    }\n",
       "\n",
       "    .dataframe thead th {\n",
       "        text-align: right;\n",
       "    }\n",
       "</style>\n",
       "<table border=\"1\" class=\"dataframe\">\n",
       "  <thead>\n",
       "    <tr style=\"text-align: right;\">\n",
       "      <th></th>\n",
       "      <th>Claim</th>\n",
       "      <th>Evidence</th>\n",
       "      <th>label</th>\n",
       "    </tr>\n",
       "  </thead>\n",
       "  <tbody>\n",
       "    <tr>\n",
       "      <th>0</th>\n",
       "      <td>We should legalize the growing of coca leaf</td>\n",
       "      <td>Robert W. Sweet, a federal judge, strongly agr...</td>\n",
       "      <td>1</td>\n",
       "    </tr>\n",
       "    <tr>\n",
       "      <th>1</th>\n",
       "      <td>We should ban trans fats usage in food</td>\n",
       "      <td>The net increase in LDL/HDL ratio with trans f...</td>\n",
       "      <td>1</td>\n",
       "    </tr>\n",
       "    <tr>\n",
       "      <th>2</th>\n",
       "      <td>We should legalize prostitution</td>\n",
       "      <td>Pertaining to health, safety and services, the...</td>\n",
       "      <td>0</td>\n",
       "    </tr>\n",
       "    <tr>\n",
       "      <th>3</th>\n",
       "      <td>We should subsidize investigative journalism</td>\n",
       "      <td>Date granted: 10 June 2002 Citation: \"For serv...</td>\n",
       "      <td>0</td>\n",
       "    </tr>\n",
       "    <tr>\n",
       "      <th>4</th>\n",
       "      <td>We should abolish homework</td>\n",
       "      <td>The Yarrabah community has a public library wh...</td>\n",
       "      <td>0</td>\n",
       "    </tr>\n",
       "    <tr>\n",
       "      <th>...</th>\n",
       "      <td>...</td>\n",
       "      <td>...</td>\n",
       "      <td>...</td>\n",
       "    </tr>\n",
       "    <tr>\n",
       "      <th>23697</th>\n",
       "      <td>We should further exploit nuclear power</td>\n",
       "      <td>The War Against the Atom (Basic Books, 1982) S...</td>\n",
       "      <td>0</td>\n",
       "    </tr>\n",
       "    <tr>\n",
       "      <th>23698</th>\n",
       "      <td>We should abolish the US Electoral College</td>\n",
       "      <td>The Constitution gives each state legislature ...</td>\n",
       "      <td>0</td>\n",
       "    </tr>\n",
       "    <tr>\n",
       "      <th>23699</th>\n",
       "      <td>Community service should be mandatory</td>\n",
       "      <td>Gardening From The Heart[REF] provides communi...</td>\n",
       "      <td>0</td>\n",
       "    </tr>\n",
       "    <tr>\n",
       "      <th>23700</th>\n",
       "      <td>Physical education should be mandatory</td>\n",
       "      <td>In some places, the health and physical educat...</td>\n",
       "      <td>0</td>\n",
       "    </tr>\n",
       "    <tr>\n",
       "      <th>23701</th>\n",
       "      <td>We should legalize doping in sport</td>\n",
       "      <td>President of the United States George W. Bush,...</td>\n",
       "      <td>1</td>\n",
       "    </tr>\n",
       "  </tbody>\n",
       "</table>\n",
       "<p>23702 rows × 3 columns</p>\n",
       "</div>"
      ],
      "text/plain": [
       "                                              Claim  \\\n",
       "0       We should legalize the growing of coca leaf   \n",
       "1            We should ban trans fats usage in food   \n",
       "2                   We should legalize prostitution   \n",
       "3      We should subsidize investigative journalism   \n",
       "4                        We should abolish homework   \n",
       "...                                             ...   \n",
       "23697       We should further exploit nuclear power   \n",
       "23698    We should abolish the US Electoral College   \n",
       "23699         Community service should be mandatory   \n",
       "23700        Physical education should be mandatory   \n",
       "23701            We should legalize doping in sport   \n",
       "\n",
       "                                                Evidence  label  \n",
       "0      Robert W. Sweet, a federal judge, strongly agr...      1  \n",
       "1      The net increase in LDL/HDL ratio with trans f...      1  \n",
       "2      Pertaining to health, safety and services, the...      0  \n",
       "3      Date granted: 10 June 2002 Citation: \"For serv...      0  \n",
       "4      The Yarrabah community has a public library wh...      0  \n",
       "...                                                  ...    ...  \n",
       "23697  The War Against the Atom (Basic Books, 1982) S...      0  \n",
       "23698  The Constitution gives each state legislature ...      0  \n",
       "23699  Gardening From The Heart[REF] provides communi...      0  \n",
       "23700  In some places, the health and physical educat...      0  \n",
       "23701  President of the United States George W. Bush,...      1  \n",
       "\n",
       "[23702 rows x 3 columns]"
      ]
     },
     "execution_count": 2,
     "metadata": {},
     "output_type": "execute_result"
    }
   ],
   "source": [
    "train_df = pd.read_csv('./ED/train.csv')\n",
    "train_df"
   ]
  },
  {
   "cell_type": "code",
   "execution_count": 3,
   "metadata": {},
   "outputs": [],
   "source": [
    "claims = train_df['Claim']\n",
    "evidence = train_df['Evidence']\n",
    "\n",
    "# tokenises input sequences\n",
    "tokenizer = Tokenizer()\n",
    "tokenizer.fit_on_texts(claims)\n",
    "tokenizer.fit_on_texts(evidence)\n",
    "\n",
    "claims_seq = tokenizer.texts_to_sequences(claims)\n",
    "evidence_seq = tokenizer.texts_to_sequences(evidence)\n",
    "\n",
    "CLAIMS_LEN = 13 # accounts for 95% of sequences in the dataset without truncation\n",
    "EVIDENCE_LEN = 65\n",
    "claims_seq = pad_sequences(claims_seq, maxlen=EVIDENCE_LEN, padding='post')\n",
    "evidence_seq = pad_sequences(evidence_seq, maxlen=EVIDENCE_LEN, padding='post')"
   ]
  },
  {
   "cell_type": "code",
   "execution_count": 4,
   "metadata": {},
   "outputs": [],
   "source": [
    "claim_train, claim_val, evidence_train, evidence_val, y_train, y_val = train_test_split(claims_seq, evidence_seq, train_df['label'], test_size=0.2, random_state=42)"
   ]
  },
  {
   "cell_type": "code",
   "execution_count": 5,
   "metadata": {},
   "outputs": [],
   "source": [
    "glove_vectors = api.load(\"glove-wiki-gigaword-100\")\n",
    "\n",
    "vocab_size = len(tokenizer.word_index) + 1\n",
    "embedding_dim = glove_vectors.vector_size\n",
    "embedding_matrix = np.zeros((vocab_size, embedding_dim))\n",
    "\n",
    "for word, i in tokenizer.word_index.items():\n",
    "    if word in glove_vectors:\n",
    "        embedding_matrix[i] = glove_vectors[word]"
   ]
  },
  {
   "cell_type": "code",
   "execution_count": 7,
   "metadata": {},
   "outputs": [],
   "source": [
    "def build_model(hp):\n",
    "    claims = Input(shape=(EVIDENCE_LEN,))\n",
    "    evidence = Input(shape=(EVIDENCE_LEN,))\n",
    "\n",
    "    shared_embedding = Embedding(input_dim=vocab_size, output_dim=embedding_dim, embeddings_initializer=Constant(embedding_matrix), input_length=EVIDENCE_LEN, trainable=False)\n",
    "\n",
    "    x1 = shared_embedding(claims)\n",
    "    x2 = shared_embedding(evidence)\n",
    "    for i in range(hp.Int('num_bilstm_layers', 1, 3)):\n",
    "        dropout = hp.Float(f'dropout_{i}', min_value=0, max_value=0.5, step=0.1)\n",
    "        x1 = Bidirectional(LSTM(units=hp.Choice(f'lstm_units_{i}', values=[32, 64, 128, 256]),\n",
    "                                dropout=dropout,\n",
    "                                recurrent_dropout=dropout,\n",
    "                                return_sequences=True if i < hp.get('num_bilstm_layers') - 1 else False))(x1)\n",
    "        x2 = Bidirectional(LSTM(units=hp.Choice(f'lstm_units_{i}', values=[32, 64, 128, 256]),\n",
    "                                dropout=dropout,\n",
    "                                recurrent_dropout=dropout,\n",
    "                                return_sequences=True if i < hp.get('num_bilstm_layers') - 1 else False))(x2)\n",
    "\n",
    "    combined = Concatenate()([x1, x2])\n",
    "\n",
    "    for k in range(hp.Int('num_dense_layers', 1, 3)):\n",
    "        combined = Dense(units=hp.Choice(f'dense_units_{k}', values=[32, 64, 128, 256]),\n",
    "                         activation='relu')(combined)\n",
    "        combined = Dropout(rate=hp.Float(f'dense_dropout_{k}', min_value=0, max_value=0.5, step=0.1))(combined)\n",
    "\n",
    "    output = Dense(1, activation='sigmoid')(combined)\n",
    "    \n",
    "    model = Model(inputs=[claims, evidence], outputs=output)\n",
    "    learning_rate = hp.Float('learning_rate', min_value=1e-4, max_value=1e-2, sampling='log')\n",
    "    model.compile(optimizer=Adam(learning_rate=learning_rate), loss='binary_crossentropy', metrics=['accuracy'])\n",
    "\n",
    "    return model\n"
   ]
  },
  {
   "cell_type": "code",
   "execution_count": 8,
   "metadata": {},
   "outputs": [
    {
     "name": "stdout",
     "output_type": "stream",
     "text": [
      "Reloading Tuner from hyperparam_selection/evidence_detection/tuner0.json\n"
     ]
    }
   ],
   "source": [
    "# initialise random hyperparameter search\n",
    "tuner = kt.RandomSearch(\n",
    "    build_model,\n",
    "    objective='val_accuracy',\n",
    "    max_trials=50,\n",
    "    executions_per_trial=1,\n",
    "    directory='hyperparam_selection',\n",
    "    project_name='evidence_detection'\n",
    ") "
   ]
  },
  {
   "cell_type": "code",
   "execution_count": null,
   "metadata": {},
   "outputs": [],
   "source": [
    "tuner.search([claim_train, evidence_train], y_train, epochs=3, validation_data=([claim_val, evidence_val], y_val))"
   ]
  },
  {
   "cell_type": "code",
   "execution_count": 21,
   "metadata": {},
   "outputs": [],
   "source": [
    "tuner.save()"
   ]
  },
  {
   "cell_type": "code",
   "execution_count": 9,
   "metadata": {},
   "outputs": [
    {
     "name": "stdout",
     "output_type": "stream",
     "text": [
      "Optimal hyperparameters: <keras_tuner.src.engine.hyperparameters.hyperparameters.HyperParameters object at 0x29182ec50>\n"
     ]
    },
    {
     "name": "stderr",
     "output_type": "stream",
     "text": [
      "WARNING:absl:At this time, the v2.11+ optimizer `tf.keras.optimizers.Adam` runs slowly on M1/M2 Macs, please use the legacy Keras optimizer instead, located at `tf.keras.optimizers.legacy.Adam`.\n",
      "WARNING:absl:At this time, the v2.11+ optimizer `tf.keras.optimizers.Adam` runs slowly on M1/M2 Macs, please use the legacy Keras optimizer instead, located at `tf.keras.optimizers.legacy.Adam`.\n"
     ]
    },
    {
     "name": "stdout",
     "output_type": "stream",
     "text": [
      "Epoch 1/4\n",
      "593/593 [==============================] - 129s 187ms/step - loss: 0.4809 - accuracy: 0.7735 - val_loss: 0.4057 - val_accuracy: 0.8034\n",
      "Epoch 2/4\n",
      "593/593 [==============================] - 103s 173ms/step - loss: 0.4130 - accuracy: 0.8044 - val_loss: 0.4109 - val_accuracy: 0.8123\n",
      "Epoch 3/4\n",
      "593/593 [==============================] - 130s 220ms/step - loss: 0.3909 - accuracy: 0.8186 - val_loss: 0.3910 - val_accuracy: 0.8123\n",
      "Epoch 4/4\n",
      "593/593 [==============================] - 132s 222ms/step - loss: 0.3748 - accuracy: 0.8271 - val_loss: 0.3725 - val_accuracy: 0.8249\n",
      "149/149 [==============================] - 8s 27ms/step\n"
     ]
    }
   ],
   "source": [
    "best_hyperparameters = tuner.get_best_hyperparameters(num_trials=1)[0]\n",
    "print(f\"Optimal hyperparameters: {best_hyperparameters}\")\n",
    "\n",
    "# apply best hyperparameters to model\n",
    "best_model = build_model(best_hyperparameters)\n",
    "best_model.compile(optimizer=Adam(learning_rate=best_hyperparameters.get('learning_rate')), loss='binary_crossentropy', metrics=['accuracy'])\n",
    "best_model.fit([claim_train, evidence_train], y_train, epochs=4, validation_data=([claim_val, evidence_val], y_val))\n",
    "\n",
    "predictions = best_model.predict([claim_val, evidence_val])"
   ]
  },
  {
   "cell_type": "code",
   "execution_count": 10,
   "metadata": {},
   "outputs": [],
   "source": [
    "import json\n",
    "\n",
    "best_model.save_weights('./best.weights.h5')\n",
    "with open('./best_hyperparameters.json', 'w') as f:\n",
    "    json.dump(best_hyperparameters.values, f)"
   ]
  },
  {
   "cell_type": "code",
   "execution_count": 11,
   "metadata": {},
   "outputs": [
    {
     "name": "stdout",
     "output_type": "stream",
     "text": [
      "149/149 [==============================] - 4s 28ms/step - loss: 0.3725 - accuracy: 0.8249\n",
      "Validation accuracy: 0.8249314427375793, loss: 0.3725113272666931\n"
     ]
    }
   ],
   "source": [
    "loss, accuracy = best_model.evaluate([claim_val, evidence_val], y_val)\n",
    "print(f'Validation accuracy: {accuracy}, loss: {loss}')"
   ]
  },
  {
   "cell_type": "code",
   "execution_count": 12,
   "metadata": {},
   "outputs": [
    {
     "name": "stdout",
     "output_type": "stream",
     "text": [
      "186/186 [==============================] - 5s 27ms/step\n"
     ]
    }
   ],
   "source": [
    "test_df = pd.read_csv('./ED/dev.csv')\n",
    "test_claims = test_df['Claim']\n",
    "test_evidence = test_df['Evidence']\n",
    "\n",
    "test_claims_seq = tokenizer.texts_to_sequences(test_claims)\n",
    "test_evidence_seq = tokenizer.texts_to_sequences(test_evidence)\n",
    "\n",
    "test_claims_seq = pad_sequences(test_claims_seq, maxlen=EVIDENCE_LEN, padding='post')\n",
    "test_evidence_seq = pad_sequences(test_evidence_seq, maxlen=EVIDENCE_LEN, padding='post')\n",
    "\n",
    "test_predictions = best_model.predict([test_claims_seq, test_evidence_seq])"
   ]
  },
  {
   "cell_type": "code",
   "execution_count": 13,
   "metadata": {},
   "outputs": [
    {
     "name": "stdout",
     "output_type": "stream",
     "text": [
      "Accuracy: 0.8250084373945326\n",
      "Precision: 0.7078402366863905\n",
      "Recall: 0.5984990619136961\n",
      "F1: 0.6485936970518469\n"
     ]
    }
   ],
   "source": [
    "from sklearn.metrics import accuracy_score, precision_score, recall_score, f1_score\n",
    "\n",
    "print(\"Accuracy:\", accuracy_score(test_df['label'], test_predictions.round()))\n",
    "print(\"Precision:\", precision_score(test_df['label'], test_predictions.round()))\n",
    "print(\"Recall:\", recall_score(test_df['label'], test_predictions.round()))\n",
    "print(\"F1:\", f1_score(test_df['label'], test_predictions.round()))"
   ]
  },
  {
   "cell_type": "code",
   "execution_count": 14,
   "metadata": {},
   "outputs": [
    {
     "data": {
      "image/png": "[encoded data removed]",
      "text/plain": [
       "<Figure size 640x480 with 1 Axes>"
      ]
     },
     "metadata": {},
     "output_type": "display_data"
    },
    {
     "name": "stdout",
     "output_type": "stream",
     "text": [
      "Optimal threshold: 0.32129761576652527\n"
     ]
    }
   ],
   "source": [
    "from sklearn.metrics import roc_curve, auc\n",
    "import matplotlib.pyplot as plt\n",
    "\n",
    "fpr, tpr, thresholds = roc_curve(test_df['label'], test_predictions)\n",
    "roc_auc = auc(fpr, tpr)\n",
    "\n",
    "plt.figure()\n",
    "plt.plot(fpr, tpr, color='darkorange', lw=2, label='ROC curve (area = %0.2f)' % roc_auc)\n",
    "plt.plot([0, 1], [0, 1], color='navy', lw=2, linestyle='--')\n",
    "plt.xlim([0.0, 1.0])\n",
    "plt.ylim([0.0, 1.05])\n",
    "plt.xlabel('False Positive Rate')\n",
    "plt.ylabel('True Positive Rate')\n",
    "plt.title('ROC curve for evidence detection')\n",
    "plt.legend(loc=\"lower right\")\n",
    "plt.show()\n",
    "\n",
    "optimal_idx = np.argmax(tpr - fpr)\n",
    "optimal_threshold = thresholds[optimal_idx]\n",
    "print(f'Optimal threshold: {optimal_threshold}')\n"
   ]
  },
  {
   "cell_type": "code",
   "execution_count": 15,
   "metadata": {},
   "outputs": [
    {
     "name": "stdout",
     "output_type": "stream",
     "text": [
      "Accuracy: 0.7973337833277084\n",
      "Precision: 0.5919593345656192\n",
      "Recall: 0.801125703564728\n",
      "F1: 0.6808397555142174\n"
     ]
    }
   ],
   "source": [
    "test_predictions = (test_predictions > optimal_threshold).astype(int)\n",
    "print(\"Accuracy:\", accuracy_score(test_df['label'], test_predictions))\n",
    "print(\"Precision:\", precision_score(test_df['label'], test_predictions))\n",
    "print(\"Recall:\", recall_score(test_df['label'], test_predictions))\n",
    "print(\"F1:\", f1_score(test_df['label'], test_predictions))"
   ]
  },
  {
   "cell_type": "code",
   "execution_count": 16,
   "metadata": {},
   "outputs": [],
   "source": [
    "# test_predictions to csv\n",
    "test_predictions = pd.DataFrame(test_predictions, columns=['label'])\n",
    "test_predictions.to_csv('./test_predictions.csv', index=False)"
   ]
  }
 ],
 "metadata": {
  "kernelspec": {
   "display_name": "Python 3",
   "language": "python",
   "name": "python3"
  },
  "language_info": {
   "codemirror_mode": {
    "name": "ipython",
    "version": 3
   },
   "file_extension": ".py",
   "mimetype": "text/x-python",
   "name": "python",
   "nbconvert_exporter": "python",
   "pygments_lexer": "ipython3",
   "version": "3.11.5"
  }
 },
 "nbformat": 4,
 "nbformat_minor": 2
}
